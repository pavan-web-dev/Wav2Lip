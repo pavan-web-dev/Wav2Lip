{
  "nbformat": 4,
  "nbformat_minor": 0,
  "metadata": {
    "colab": {
      "provenance": []
    },
    "kernelspec": {
      "name": "python3",
      "display_name": "Python 3"
    },
    "accelerator": "GPU",
    "gpuClass": "standard"
  },
  "cells": [
    {
      "cell_type": "markdown",
      "metadata": {
        "id": "vSQFs_G8caeE"
      },
      "source": [
        "# Collab preliminaries"
      ]
    },
    {
      "cell_type": "code",
      "metadata": {
        "id": "XIVB0Xn1g6ih",
        "colab": {
          "base_uri": "https://localhost:8080/"
        },
        "outputId": "04ccef5e-3dcf-4396-f369-5b390cf59182"
      },
      "source": [
        "!nvcc --version"
      ],
      "execution_count": 1,
      "outputs": [
        {
          "output_type": "stream",
          "name": "stdout",
          "text": [
            "nvcc: NVIDIA (R) Cuda compiler driver\n",
            "Copyright (c) 2005-2021 NVIDIA Corporation\n",
            "Built on Sun_Feb_14_21:12:58_PST_2021\n",
            "Cuda compilation tools, release 11.2, V11.2.152\n",
            "Build cuda_11.2.r11.2/compiler.29618528_0\n"
          ]
        }
      ]
    },
    {
      "cell_type": "markdown",
      "metadata": {
        "id": "yJ5taGmPcWV-"
      },
      "source": [
        "# Get the code and models"
      ]
    },
    {
      "cell_type": "code",
      "metadata": {
        "id": "P3LihClHbUd3",
        "colab": {
          "base_uri": "https://localhost:8080/"
        },
        "outputId": "47ae3cd8-fc04-4309-cd23-f3b511eee87b"
      },
      "source": [
        "!git clone https://github.com/pavan-web-dev/Wav2Lip.git"
      ],
      "execution_count": 2,
      "outputs": [
        {
          "output_type": "stream",
          "name": "stdout",
          "text": [
            "Cloning into 'Wav2Lip'...\n",
            "remote: Enumerating objects: 364, done.\u001b[K\n",
            "remote: Counting objects: 100% (4/4), done.\u001b[K\n",
            "remote: Compressing objects: 100% (4/4), done.\u001b[K\n",
            "remote: Total 364 (delta 0), reused 3 (delta 0), pack-reused 360\u001b[K\n",
            "Receiving objects: 100% (364/364), 523.47 KiB | 4.25 MiB/s, done.\n",
            "Resolving deltas: 100% (198/198), done.\n"
          ]
        }
      ]
    },
    {
      "cell_type": "code",
      "source": [
        "# the download_weights code doesn't work when the file gets requested too many times\n",
        "!wget --header=\"Host: doc-0k-08-docs.googleusercontent.com\" --header=\"User-Agent: Mozilla/5.0 (Windows NT 10.0; Win64; x64) AppleWebKit/537.36 (KHTML, like Gecko) Chrome/108.0.0.0 Safari/537.36 Edg/108.0.1462.76\" --header=\"Accept: text/html,application/xhtml+xml,application/xml;q=0.9,image/webp,image/apng,*/*;q=0.8,application/signed-exchange;v=b3;q=0.9\" --header=\"Accept-Language: en-US,en;q=0.9\" --header=\"Cookie: AUTH_j6n9mbfqhln9b82qchtq0t269ds8leg1_nonce=5rhe024nng7p6\" --header=\"Connection: keep-alive\" \"https://doc-0k-08-docs.googleusercontent.com/docs/securesc/fv80fqa05oqs18oevn761juc4530u1dp/ju3k7itr5sc8vlfp4u6ods3a3rnnsslm/1675615350000/08453528353228414117/08453528353228414117/1Hxl7S0OfRdiwhnyAt0W0fPcknw6tjUib?e=download&ax=AB85Z1DQQghCcT1G7OuXZveW5-SH6UJya_APqThjAkeF50J0kJGjWu5If6d-wadjGB8NLlOupNxjbf-7XMwd-58AWhZulwB2DJeaJ6TGwmsDq5Hu6zT7YmtVcrnXv83AQuF-oz4QdsAz3Mz5wsy6uuJjpZBPPGVUlRhBInxqNRt4dZLpZL61wljek7kBK6YDnvd15QR-AVf0OmCjqJBRZDWrD4MS_OrFblc8m4FnzXh64yY4hprCBGKpAI0WzJObTyCq0xvfqgcnPA9iPl-_RSKJcOuwKxN64do5v5pWPWelef11MXUAFT4X3kpO-WeizsqBnQipJJa3ZWlbslm2P_w5egy0haJmGBhwAlySv91wo6ej7GOykMmYI31eldtAYnEne9rPw2FCz1Mu-YxhvJ9p4CjwbbsatoKPmJLwX_x44SSXR_ZdMyKN2U60fm6q4M8-OhRWc61fzBtRAyhHxxl4KWtVc3WF2LGtxKGlU_ycfmuuDyI3NCOuZ9Xl6vAXj4ZHOTFVEmBi5BFN8Hg5qVNIuHDwpzAVnmRVvn2fBdWHmIcVF5jWmUdFrhVs82NQkggDCzasT09pMRaezvdIKpYaljlad4DiiAFju0jVcNNPKdbKNood42dF0CJZWQlLkkzAx7xf8d20T7P9tTHIMt24t0TpG11pTmo76JQSAfOnOpE4OuqZGXe2khSNiv085nIhnXCwF32D13yOE3IV3lAAdicIVjtlHzrWcnGSVqSS6Yjjf-BZDkDfdiDb8PkwCGYybbICwxeskCmDAqKd2EiB5iDKHJX9TVcqFYaTS53tMKyG3m6Pz2AHoJfcDVSwhQQRF7_3DejKZT94tbsBQc6p3cfz0oC6eGQAXwE7PR0ztKXtMY107qYR2qPQgrrHTSOC0e6Jx93YnNx8qQSta5d7Xw0f61Ifmj5ETApO0bMvCyTkzDtJtUsTaZfHkUJ9k2oar8YTrvZXt2xJCPGt-wOiHKz_YeHGxjHwfdb-Xvr9Op5YN9u9FroD9piMrQRrQ8T8zVul-t5RQB7z3U3BZAYk5zMdzT8rqSFL7DdyLONEAPgOhNvN&uuid=32aca821-ee62-41cf-851b-fea3531786d6&authuser=4&nonce=5rhe024nng7p6&user=08453528353228414117&hash=8768qb5ucqqij3qojbassnhlf7lcos8m\" -c -O 'wav2lip_gan.pth'"
      ],
      "metadata": {
        "id": "cP2NS1jGszF1",
        "outputId": "38000949-d9e0-4cfb-d7f5-21c65bf99202",
        "colab": {
          "base_uri": "https://localhost:8080/"
        }
      },
      "execution_count": 5,
      "outputs": [
        {
          "output_type": "stream",
          "name": "stdout",
          "text": [
            "--2023-02-05 16:43:58--  https://doc-0k-08-docs.googleusercontent.com/docs/securesc/fv80fqa05oqs18oevn761juc4530u1dp/ju3k7itr5sc8vlfp4u6ods3a3rnnsslm/1675615350000/08453528353228414117/08453528353228414117/1Hxl7S0OfRdiwhnyAt0W0fPcknw6tjUib?e=download&ax=AB85Z1DQQghCcT1G7OuXZveW5-SH6UJya_APqThjAkeF50J0kJGjWu5If6d-wadjGB8NLlOupNxjbf-7XMwd-58AWhZulwB2DJeaJ6TGwmsDq5Hu6zT7YmtVcrnXv83AQuF-oz4QdsAz3Mz5wsy6uuJjpZBPPGVUlRhBInxqNRt4dZLpZL61wljek7kBK6YDnvd15QR-AVf0OmCjqJBRZDWrD4MS_OrFblc8m4FnzXh64yY4hprCBGKpAI0WzJObTyCq0xvfqgcnPA9iPl-_RSKJcOuwKxN64do5v5pWPWelef11MXUAFT4X3kpO-WeizsqBnQipJJa3ZWlbslm2P_w5egy0haJmGBhwAlySv91wo6ej7GOykMmYI31eldtAYnEne9rPw2FCz1Mu-YxhvJ9p4CjwbbsatoKPmJLwX_x44SSXR_ZdMyKN2U60fm6q4M8-OhRWc61fzBtRAyhHxxl4KWtVc3WF2LGtxKGlU_ycfmuuDyI3NCOuZ9Xl6vAXj4ZHOTFVEmBi5BFN8Hg5qVNIuHDwpzAVnmRVvn2fBdWHmIcVF5jWmUdFrhVs82NQkggDCzasT09pMRaezvdIKpYaljlad4DiiAFju0jVcNNPKdbKNood42dF0CJZWQlLkkzAx7xf8d20T7P9tTHIMt24t0TpG11pTmo76JQSAfOnOpE4OuqZGXe2khSNiv085nIhnXCwF32D13yOE3IV3lAAdicIVjtlHzrWcnGSVqSS6Yjjf-BZDkDfdiDb8PkwCGYybbICwxeskCmDAqKd2EiB5iDKHJX9TVcqFYaTS53tMKyG3m6Pz2AHoJfcDVSwhQQRF7_3DejKZT94tbsBQc6p3cfz0oC6eGQAXwE7PR0ztKXtMY107qYR2qPQgrrHTSOC0e6Jx93YnNx8qQSta5d7Xw0f61Ifmj5ETApO0bMvCyTkzDtJtUsTaZfHkUJ9k2oar8YTrvZXt2xJCPGt-wOiHKz_YeHGxjHwfdb-Xvr9Op5YN9u9FroD9piMrQRrQ8T8zVul-t5RQB7z3U3BZAYk5zMdzT8rqSFL7DdyLONEAPgOhNvN&uuid=32aca821-ee62-41cf-851b-fea3531786d6&authuser=4&nonce=5rhe024nng7p6&user=08453528353228414117&hash=8768qb5ucqqij3qojbassnhlf7lcos8m\n",
            "Resolving doc-0k-08-docs.googleusercontent.com (doc-0k-08-docs.googleusercontent.com)... 142.250.1.132, 2607:f8b0:4001:c24::84\n",
            "Connecting to doc-0k-08-docs.googleusercontent.com (doc-0k-08-docs.googleusercontent.com)|142.250.1.132|:443... connected.\n",
            "HTTP request sent, awaiting response... 200 OK\n",
            "Length: 435801865 (416M) [application/octet-stream]\n",
            "Saving to: ‘wav2lip_gan.pth’\n",
            "\n",
            "wav2lip_gan.pth     100%[===================>] 415.61M  66.4MB/s    in 6.3s    \n",
            "\n",
            "2023-02-05 16:44:05 (66.4 MB/s) - ‘wav2lip_gan.pth’ saved [435801865/435801865]\n",
            "\n"
          ]
        }
      ]
    },
    {
      "cell_type": "code",
      "metadata": {
        "id": "YjzMPy_Sb0AI"
      },
      "source": [
        "!cp -ri \"/content/wav2lip_gan.pth\" /content/Wav2Lip/checkpoints/"
      ],
      "execution_count": 6,
      "outputs": []
    },
    {
      "cell_type": "markdown",
      "metadata": {
        "id": "aWTaOS3ncFt6"
      },
      "source": [
        "# Get the pre-requisites"
      ]
    },
    {
      "cell_type": "code",
      "metadata": {
        "id": "Ooh28vw-Uvd3",
        "colab": {
          "base_uri": "https://localhost:8080/"
        },
        "outputId": "4d3b09f1-a9f8-4283-924b-7902b5c1b006"
      },
      "source": [
        "!pip uninstall tensorflow tensorflow-gpu"
      ],
      "execution_count": 7,
      "outputs": [
        {
          "output_type": "stream",
          "name": "stdout",
          "text": [
            "Found existing installation: tensorflow 2.9.2\n",
            "Uninstalling tensorflow-2.9.2:\n",
            "  Would remove:\n",
            "    /usr/local/bin/estimator_ckpt_converter\n",
            "    /usr/local/bin/import_pb_to_tensorboard\n",
            "    /usr/local/bin/saved_model_cli\n",
            "    /usr/local/bin/tensorboard\n",
            "    /usr/local/bin/tf_upgrade_v2\n",
            "    /usr/local/bin/tflite_convert\n",
            "    /usr/local/bin/toco\n",
            "    /usr/local/bin/toco_from_protos\n",
            "    /usr/local/lib/python3.8/dist-packages/tensorflow-2.9.2.dist-info/*\n",
            "    /usr/local/lib/python3.8/dist-packages/tensorflow/*\n",
            "Proceed (Y/n)? Y\n",
            "  Successfully uninstalled tensorflow-2.9.2\n",
            "\u001b[33mWARNING: Skipping tensorflow-gpu as it is not installed.\u001b[0m\u001b[33m\n",
            "\u001b[0m"
          ]
        }
      ]
    },
    {
      "cell_type": "code",
      "metadata": {
        "id": "49dCYlLdcK2D",
        "colab": {
          "base_uri": "https://localhost:8080/"
        },
        "outputId": "cd4da80a-8792-4c76-868a-15284237c249"
      },
      "source": [
        "!cd Wav2Lip && pip install -r requirements.txt"
      ],
      "execution_count": 8,
      "outputs": [
        {
          "output_type": "stream",
          "name": "stdout",
          "text": [
            "Looking in indexes: https://pypi.org/simple, https://us-python.pkg.dev/colab-wheels/public/simple/\n",
            "Collecting librosa==0.7.0\n",
            "  Downloading librosa-0.7.0.tar.gz (1.6 MB)\n",
            "\u001b[2K     \u001b[90m━━━━━━━━━━━━━━━━━━━━━━━━━━━━━━━━━━━━━━━━\u001b[0m \u001b[32m1.6/1.6 MB\u001b[0m \u001b[31m20.3 MB/s\u001b[0m eta \u001b[36m0:00:00\u001b[0m\n",
            "\u001b[?25h  Preparing metadata (setup.py) ... \u001b[?25l\u001b[?25hdone\n",
            "Collecting numpy==1.17.1\n",
            "  Downloading numpy-1.17.1.zip (6.5 MB)\n",
            "\u001b[2K     \u001b[90m━━━━━━━━━━━━━━━━━━━━━━━━━━━━━━━━━━━━━━━━\u001b[0m \u001b[32m6.5/6.5 MB\u001b[0m \u001b[31m33.9 MB/s\u001b[0m eta \u001b[36m0:00:00\u001b[0m\n",
            "\u001b[?25h  Preparing metadata (setup.py) ... \u001b[?25l\u001b[?25hdone\n",
            "Requirement already satisfied: opencv-contrib-python>=4.2.0.34 in /usr/local/lib/python3.8/dist-packages (from -r requirements.txt (line 3)) (4.6.0.66)\n",
            "\u001b[31mERROR: Could not find a version that satisfies the requirement opencv-python==4.1.0.25 (from versions: 3.4.0.14, 3.4.8.29, 3.4.9.31, 3.4.9.33, 3.4.10.35, 3.4.10.37, 3.4.11.39, 3.4.11.41, 3.4.11.43, 3.4.11.45, 3.4.13.47, 3.4.14.51, 3.4.14.53, 3.4.15.55, 3.4.16.57, 3.4.16.59, 3.4.17.61, 3.4.17.63, 3.4.18.65, 4.1.2.30, 4.2.0.32, 4.2.0.34, 4.3.0.36, 4.3.0.38, 4.4.0.40, 4.4.0.42, 4.4.0.44, 4.4.0.46, 4.5.1.48, 4.5.2.52, 4.5.2.54, 4.5.3.56, 4.5.4.58, 4.5.4.60, 4.5.5.62, 4.5.5.64, 4.6.0.66, 4.7.0.68)\u001b[0m\u001b[31m\n",
            "\u001b[0m\u001b[31mERROR: No matching distribution found for opencv-python==4.1.0.25\u001b[0m\u001b[31m\n",
            "\u001b[0m"
          ]
        }
      ]
    },
    {
      "cell_type": "code",
      "metadata": {
        "id": "ey_bN4M6X_95",
        "colab": {
          "base_uri": "https://localhost:8080/"
        },
        "outputId": "33b6e368-4346-429a-9b0a-8949b3b48fee"
      },
      "source": [
        "# Download from here https://drive.google.com/file/d/15If8rgjB4Bs17xdnn-xyiA1uHR7A8Z0_/view?usp=share_link if below link fails\n",
        "!wget \"https://www.adrianbulat.com/downloads/python-fan/s3fd-619a316812.pth\" -O \"Wav2Lip/face_detection/detection/sfd/s3fd.pth\""
      ],
      "execution_count": 9,
      "outputs": [
        {
          "output_type": "stream",
          "name": "stdout",
          "text": [
            "--2023-02-05 16:48:53--  https://www.adrianbulat.com/downloads/python-fan/s3fd-619a316812.pth\n",
            "Resolving www.adrianbulat.com (www.adrianbulat.com)... 45.136.29.207\n",
            "Connecting to www.adrianbulat.com (www.adrianbulat.com)|45.136.29.207|:443... connected.\n",
            "HTTP request sent, awaiting response... 200 OK\n",
            "Length: 89843225 (86M) [application/octet-stream]\n",
            "Saving to: ‘Wav2Lip/face_detection/detection/sfd/s3fd.pth’\n",
            "\n",
            "Wav2Lip/face_detect 100%[===================>]  85.68M  23.9MB/s    in 4.2s    \n",
            "\n",
            "2023-02-05 16:48:58 (20.5 MB/s) - ‘Wav2Lip/face_detection/detection/sfd/s3fd.pth’ saved [89843225/89843225]\n",
            "\n"
          ]
        }
      ]
    },
    {
      "cell_type": "markdown",
      "source": [
        "# Text to Audio\n",
        "Get the audio file that you want from any text to speech free website. One free website is https://ttsmp3.com/ "
      ],
      "metadata": {
        "id": "yT4zbyvvwLbN"
      }
    },
    {
      "cell_type": "code",
      "source": [
        "!pip install pydub"
      ],
      "metadata": {
        "id": "IYrJw9Vhx-yr",
        "outputId": "da9f6896-9825-4b64-d88a-c0a030abb168",
        "colab": {
          "base_uri": "https://localhost:8080/"
        }
      },
      "execution_count": 10,
      "outputs": [
        {
          "output_type": "stream",
          "name": "stdout",
          "text": [
            "Looking in indexes: https://pypi.org/simple, https://us-python.pkg.dev/colab-wheels/public/simple/\n",
            "Collecting pydub\n",
            "  Downloading pydub-0.25.1-py2.py3-none-any.whl (32 kB)\n",
            "Installing collected packages: pydub\n",
            "Successfully installed pydub-0.25.1\n"
          ]
        }
      ]
    },
    {
      "cell_type": "code",
      "source": [
        "from pydub import AudioSegment\n",
        "\n",
        "# Load the audio file\n",
        "audio = AudioSegment.from_file(\"sample.mp3\", format=\"mp3\")\n",
        "\n",
        "# Get the duration of the audio file in milliseconds\n",
        "duration = len(audio)\n",
        "\n",
        "# Convert the duration to seconds\n",
        "duration_in_seconds = duration / 1000\n",
        "\n",
        "print(\"Duration:\", duration_in_seconds, \"seconds\")\n",
        "\n",
        "rounded_duration = int(duration_in_seconds)"
      ],
      "metadata": {
        "id": "buc1Hh-SwKua",
        "outputId": "8440ee61-cc7c-40c4-e6f5-46d0ac00fc53",
        "colab": {
          "base_uri": "https://localhost:8080/"
        }
      },
      "execution_count": 11,
      "outputs": [
        {
          "output_type": "stream",
          "name": "stdout",
          "text": [
            "Duration: 12.251 seconds\n"
          ]
        }
      ]
    },
    {
      "cell_type": "markdown",
      "metadata": {
        "id": "qdIQfY2Kswcb"
      },
      "source": [
        "# Let's generate a video from the image.\n",
        "Download the image from link: https://drive.google.com/file/d/1Oy3zYHh50tLRskp-imnGAYvzFrZlojDI/view?usp=sharing"
      ]
    },
    {
      "cell_type": "code",
      "source": [
        "import cv2\n",
        "from pathlib import Path\n",
        "from google.colab.patches import cv2_imshow\n",
        "input_file_name = Path('girl.jfif')\n",
        "# Load the image\n",
        "img = cv2.imread(str(input_file_name.resolve()))\n",
        "img = cv2.resize(img, (0,0), fx=0.5, fy=0.5)\n",
        "# Define the codec and create a VideoWriter object\n",
        "fourcc = cv2.VideoWriter_fourcc(*\"mp4v\")\n",
        "video = cv2.VideoWriter(f\"{input_file_name.stem}.mp4\", fourcc, 20.0, (img.shape[1], img.shape[0]))\n",
        "\n",
        "# Loop to write the same image for 10 seconds\n",
        "for i in range(20*rounded_duration):\n",
        "    video.write(img)\n",
        "\n",
        "# Release the VideoWriter object\n",
        "video.release()"
      ],
      "metadata": {
        "id": "f2m28DOH8x95"
      },
      "execution_count": 23,
      "outputs": []
    },
    {
      "cell_type": "code",
      "metadata": {
        "id": "jR5utmDMcSZY",
        "colab": {
          "base_uri": "https://localhost:8080/"
        },
        "outputId": "3d2210c7-e12c-4abb-ee2b-aa9825faa61a"
      },
      "source": [
        "%%time\n",
        "!cd Wav2Lip && python inference.py --checkpoint_path checkpoints/wav2lip_gan.pth --face \"/content/girl.mp4\" --audio \"/content/sample.mp3\""
      ],
      "execution_count": 24,
      "outputs": [
        {
          "output_type": "stream",
          "name": "stdout",
          "text": [
            "Using cuda for inference.\n",
            "Reading video frames...\n",
            "Number of frames available for inference: 240\n",
            "Extracting raw audio...\n",
            "ffmpeg version 4.2.7-0ubuntu0.1 Copyright (c) 2000-2022 the FFmpeg developers\n",
            "  built with gcc 9 (Ubuntu 9.4.0-1ubuntu1~20.04.1)\n",
            "  configuration: --prefix=/usr --extra-version=0ubuntu0.1 --toolchain=hardened --libdir=/usr/lib/x86_64-linux-gnu --incdir=/usr/include/x86_64-linux-gnu --arch=amd64 --enable-gpl --disable-stripping --enable-avresample --disable-filter=resample --enable-avisynth --enable-gnutls --enable-ladspa --enable-libaom --enable-libass --enable-libbluray --enable-libbs2b --enable-libcaca --enable-libcdio --enable-libcodec2 --enable-libflite --enable-libfontconfig --enable-libfreetype --enable-libfribidi --enable-libgme --enable-libgsm --enable-libjack --enable-libmp3lame --enable-libmysofa --enable-libopenjpeg --enable-libopenmpt --enable-libopus --enable-libpulse --enable-librsvg --enable-librubberband --enable-libshine --enable-libsnappy --enable-libsoxr --enable-libspeex --enable-libssh --enable-libtheora --enable-libtwolame --enable-libvidstab --enable-libvorbis --enable-libvpx --enable-libwavpack --enable-libwebp --enable-libx265 --enable-libxml2 --enable-libxvid --enable-libzmq --enable-libzvbi --enable-lv2 --enable-omx --enable-openal --enable-opencl --enable-opengl --enable-sdl2 --enable-libdc1394 --enable-libdrm --enable-libiec61883 --enable-nvenc --enable-chromaprint --enable-frei0r --enable-libx264 --enable-shared\n",
            "  libavutil      56. 31.100 / 56. 31.100\n",
            "  libavcodec     58. 54.100 / 58. 54.100\n",
            "  libavformat    58. 29.100 / 58. 29.100\n",
            "  libavdevice    58.  8.100 / 58.  8.100\n",
            "  libavfilter     7. 57.100 /  7. 57.100\n",
            "  libavresample   4.  0.  0 /  4.  0.  0\n",
            "  libswscale      5.  5.100 /  5.  5.100\n",
            "  libswresample   3.  5.100 /  3.  5.100\n",
            "  libpostproc    55.  5.100 / 55.  5.100\n",
            "\u001b[0;35m[mp3 @ 0x55ef79654000] \u001b[0m\u001b[0;33mEstimating duration from bitrate, this may be inaccurate\n",
            "\u001b[0mInput #0, mp3, from '/content/sample.mp3':\n",
            "  Metadata:\n",
            "    encoder         : Lavf58.76.100\n",
            "  Duration: 00:00:12.25, start: 0.000000, bitrate: 48 kb/s\n",
            "    Stream #0:0: Audio: mp3, 22050 Hz, mono, fltp, 48 kb/s\n",
            "Stream mapping:\n",
            "  Stream #0:0 -> #0:0 (mp3 (mp3float) -> pcm_s16le (native))\n",
            "Press [q] to stop, [?] for help\n",
            "Output #0, wav, to 'temp/temp.wav':\n",
            "  Metadata:\n",
            "    ISFT            : Lavf58.29.100\n",
            "    Stream #0:0: Audio: pcm_s16le ([1][0][0][0] / 0x0001), 22050 Hz, mono, s16, 352 kb/s\n",
            "    Metadata:\n",
            "      encoder         : Lavc58.54.100 pcm_s16le\n",
            "size=     528kB time=00:00:12.25 bitrate= 352.9kbits/s speed=1.46e+03x    \n",
            "video:0kB audio:528kB subtitle:0kB other streams:0kB global headers:0kB muxing overhead: 0.014437%\n",
            "(80, 981)\n",
            "Length of mel chunks: 243\n",
            "  0% 0/2 [00:00<?, ?it/s]\n",
            "  0% 0/15 [00:05<?, ?it/s]\n",
            "Recovering from OOM error; New batch size: 8\n",
            "\n",
            "  0% 0/30 [00:00<?, ?it/s]\u001b[A\n",
            "  3% 1/30 [00:09<04:42,  9.74s/it]\u001b[A\n",
            "  7% 2/30 [00:12<02:37,  5.63s/it]\u001b[A\n",
            " 10% 3/30 [00:15<01:54,  4.23s/it]\u001b[A\n",
            " 13% 4/30 [00:17<01:33,  3.58s/it]\u001b[A\n",
            " 17% 5/30 [00:20<01:20,  3.22s/it]\u001b[A\n",
            " 20% 6/30 [00:22<01:12,  3.03s/it]\u001b[A\n",
            " 23% 7/30 [00:25<01:07,  2.94s/it]\u001b[A\n",
            " 27% 8/30 [00:28<01:02,  2.84s/it]\u001b[A\n",
            " 30% 9/30 [00:30<00:58,  2.76s/it]\u001b[A\n",
            " 33% 10/30 [00:33<00:54,  2.72s/it]\u001b[A\n",
            " 37% 11/30 [00:36<00:51,  2.69s/it]\u001b[A\n",
            " 40% 12/30 [00:38<00:48,  2.67s/it]\u001b[A\n",
            " 43% 13/30 [00:41<00:45,  2.66s/it]\u001b[A\n",
            " 47% 14/30 [00:43<00:42,  2.65s/it]\u001b[A\n",
            " 50% 15/30 [00:46<00:39,  2.65s/it]\u001b[A\n",
            " 53% 16/30 [00:49<00:37,  2.68s/it]\u001b[A\n",
            " 57% 17/30 [00:51<00:34,  2.66s/it]\u001b[A\n",
            " 60% 18/30 [00:54<00:31,  2.64s/it]\u001b[A\n",
            " 63% 19/30 [00:57<00:28,  2.63s/it]\u001b[A\n",
            " 67% 20/30 [00:59<00:26,  2.63s/it]\u001b[A\n",
            " 70% 21/30 [01:02<00:24,  2.68s/it]\u001b[A\n",
            " 73% 22/30 [01:05<00:21,  2.66s/it]\u001b[A\n",
            " 77% 23/30 [01:07<00:18,  2.64s/it]\u001b[A\n",
            " 80% 24/30 [01:10<00:15,  2.63s/it]\u001b[A\n",
            " 83% 25/30 [01:13<00:13,  2.65s/it]\u001b[A\n",
            " 87% 26/30 [01:15<00:10,  2.63s/it]\u001b[A\n",
            " 90% 27/30 [01:18<00:07,  2.62s/it]\u001b[A\n",
            " 93% 28/30 [01:20<00:05,  2.61s/it]\u001b[A\n",
            " 97% 29/30 [01:23<00:02,  2.61s/it]\u001b[A\n",
            "100% 30/30 [01:26<00:00,  2.87s/it]\n",
            "Load checkpoint from: checkpoints/wav2lip_gan.pth\n",
            "Model loaded\n",
            "100% 2/2 [01:41<00:00, 50.70s/it]\n",
            "ffmpeg version 4.2.7-0ubuntu0.1 Copyright (c) 2000-2022 the FFmpeg developers\n",
            "  built with gcc 9 (Ubuntu 9.4.0-1ubuntu1~20.04.1)\n",
            "  configuration: --prefix=/usr --extra-version=0ubuntu0.1 --toolchain=hardened --libdir=/usr/lib/x86_64-linux-gnu --incdir=/usr/include/x86_64-linux-gnu --arch=amd64 --enable-gpl --disable-stripping --enable-avresample --disable-filter=resample --enable-avisynth --enable-gnutls --enable-ladspa --enable-libaom --enable-libass --enable-libbluray --enable-libbs2b --enable-libcaca --enable-libcdio --enable-libcodec2 --enable-libflite --enable-libfontconfig --enable-libfreetype --enable-libfribidi --enable-libgme --enable-libgsm --enable-libjack --enable-libmp3lame --enable-libmysofa --enable-libopenjpeg --enable-libopenmpt --enable-libopus --enable-libpulse --enable-librsvg --enable-librubberband --enable-libshine --enable-libsnappy --enable-libsoxr --enable-libspeex --enable-libssh --enable-libtheora --enable-libtwolame --enable-libvidstab --enable-libvorbis --enable-libvpx --enable-libwavpack --enable-libwebp --enable-libx265 --enable-libxml2 --enable-libxvid --enable-libzmq --enable-libzvbi --enable-lv2 --enable-omx --enable-openal --enable-opencl --enable-opengl --enable-sdl2 --enable-libdc1394 --enable-libdrm --enable-libiec61883 --enable-nvenc --enable-chromaprint --enable-frei0r --enable-libx264 --enable-shared\n",
            "  libavutil      56. 31.100 / 56. 31.100\n",
            "  libavcodec     58. 54.100 / 58. 54.100\n",
            "  libavformat    58. 29.100 / 58. 29.100\n",
            "  libavdevice    58.  8.100 / 58.  8.100\n",
            "  libavfilter     7. 57.100 /  7. 57.100\n",
            "  libavresample   4.  0.  0 /  4.  0.  0\n",
            "  libswscale      5.  5.100 /  5.  5.100\n",
            "  libswresample   3.  5.100 /  3.  5.100\n",
            "  libpostproc    55.  5.100 / 55.  5.100\n",
            "\u001b[0;33mGuessed Channel Layout for Input Stream #0.0 : mono\n",
            "\u001b[0mInput #0, wav, from 'temp/temp.wav':\n",
            "  Metadata:\n",
            "    encoder         : Lavf58.29.100\n",
            "  Duration: 00:00:12.25, bitrate: 352 kb/s\n",
            "    Stream #0:0: Audio: pcm_s16le ([1][0][0][0] / 0x0001), 22050 Hz, mono, s16, 352 kb/s\n",
            "Input #1, avi, from 'temp/result.avi':\n",
            "  Metadata:\n",
            "    encoder         : Lavf58.76.100\n",
            "  Duration: 00:00:12.15, start: 0.000000, bitrate: 2082 kb/s\n",
            "    Stream #1:0: Video: mpeg4 (Simple Profile) (FMP4 / 0x34504D46), yuv420p, 1024x1536 [SAR 1:1 DAR 2:3], 2083 kb/s, 20 fps, 20 tbr, 20 tbn, 20 tbc\n",
            "Stream mapping:\n",
            "  Stream #1:0 -> #0:0 (mpeg4 (native) -> h264 (libx264))\n",
            "  Stream #0:0 -> #0:1 (pcm_s16le (native) -> aac (native))\n",
            "Press [q] to stop, [?] for help\n",
            "\u001b[1;36m[libx264 @ 0x55eebc7dff80] \u001b[0m\u001b[0;33m-qscale is ignored, -crf is recommended.\n",
            "\u001b[0m\u001b[1;36m[libx264 @ 0x55eebc7dff80] \u001b[0musing SAR=1/1\n",
            "\u001b[1;36m[libx264 @ 0x55eebc7dff80] \u001b[0musing cpu capabilities: MMX2 SSE2Fast SSSE3 SSE4.2 AVX FMA3 BMI2 AVX2\n",
            "\u001b[1;36m[libx264 @ 0x55eebc7dff80] \u001b[0mprofile High, level 4.0\n",
            "\u001b[1;36m[libx264 @ 0x55eebc7dff80] \u001b[0m264 - core 155 r2917 0a84d98 - H.264/MPEG-4 AVC codec - Copyleft 2003-2018 - http://www.videolan.org/x264.html - options: cabac=1 ref=3 deblock=1:0:0 analyse=0x3:0x113 me=hex subme=7 psy=1 psy_rd=1.00:0.00 mixed_ref=1 me_range=16 chroma_me=1 trellis=1 8x8dct=1 cqm=0 deadzone=21,11 fast_pskip=1 chroma_qp_offset=-2 threads=3 lookahead_threads=1 sliced_threads=0 nr=0 decimate=1 interlaced=0 bluray_compat=0 constrained_intra=0 bframes=3 b_pyramid=2 b_adapt=1 b_bias=0 direct=1 weightb=1 open_gop=0 weightp=2 keyint=250 keyint_min=20 scenecut=40 intra_refresh=0 rc_lookahead=40 rc=crf mbtree=1 crf=23.0 qcomp=0.60 qpmin=0 qpmax=69 qpstep=4 ip_ratio=1.40 aq=1:1.00\n",
            "Output #0, mp4, to 'results/result_voice.mp4':\n",
            "  Metadata:\n",
            "    encoder         : Lavf58.29.100\n",
            "    Stream #0:0: Video: h264 (libx264) (avc1 / 0x31637661), yuv420p(progressive), 1024x1536 [SAR 1:1 DAR 2:3], q=-1--1, 20 fps, 10240 tbn, 20 tbc\n",
            "    Metadata:\n",
            "      encoder         : Lavc58.54.100 libx264\n",
            "    Side data:\n",
            "      cpb: bitrate max/min/avg: 0/0/0 buffer size: 0 vbv_delay: -1\n",
            "    Stream #0:1: Audio: aac (LC) (mp4a / 0x6134706D), 22050 Hz, mono, fltp, 69 kb/s\n",
            "    Metadata:\n",
            "      encoder         : Lavc58.54.100 aac\n",
            "frame=  243 fps= 26 q=-1.0 Lsize=     750kB time=00:00:12.26 bitrate= 501.0kbits/s speed=1.31x    \n",
            "video:629kB audio:113kB subtitle:0kB other streams:0kB global headers:0kB muxing overhead: 1.023476%\n",
            "\u001b[1;36m[libx264 @ 0x55eebc7dff80] \u001b[0mframe I:1     Avg QP:18.69  size: 96707\n",
            "\u001b[1;36m[libx264 @ 0x55eebc7dff80] \u001b[0mframe P:62    Avg QP:17.09  size:  5776\n",
            "\u001b[1;36m[libx264 @ 0x55eebc7dff80] \u001b[0mframe B:180   Avg QP:24.34  size:  1047\n",
            "\u001b[1;36m[libx264 @ 0x55eebc7dff80] \u001b[0mconsecutive B-frames:  1.2%  0.0%  0.0% 98.8%\n",
            "\u001b[1;36m[libx264 @ 0x55eebc7dff80] \u001b[0mmb I  I16..4: 32.2% 65.7%  2.1%\n",
            "\u001b[1;36m[libx264 @ 0x55eebc7dff80] \u001b[0mmb P  I16..4:  0.6%  2.1%  0.1%  P16..4:  9.5%  2.2%  1.4%  0.0%  0.0%    skip:84.0%\n",
            "\u001b[1;36m[libx264 @ 0x55eebc7dff80] \u001b[0mmb B  I16..4:  0.1%  0.5%  0.0%  B16..8:  6.1%  0.4%  0.0%  direct: 0.1%  skip:92.7%  L0:46.6% L1:51.2% BI: 2.3%\n",
            "\u001b[1;36m[libx264 @ 0x55eebc7dff80] \u001b[0m8x8 transform intra:74.6% inter:86.6%\n",
            "\u001b[1;36m[libx264 @ 0x55eebc7dff80] \u001b[0mcoded y,uvDC,uvAC intra: 50.3% 74.5% 21.8% inter: 1.5% 2.4% 0.3%\n",
            "\u001b[1;36m[libx264 @ 0x55eebc7dff80] \u001b[0mi16 v,h,dc,p: 37% 29% 20% 13%\n",
            "\u001b[1;36m[libx264 @ 0x55eebc7dff80] \u001b[0mi8 v,h,dc,ddl,ddr,vr,hd,vl,hu: 23% 22% 39%  3%  2%  3%  2%  3%  3%\n",
            "\u001b[1;36m[libx264 @ 0x55eebc7dff80] \u001b[0mi4 v,h,dc,ddl,ddr,vr,hd,vl,hu: 39% 24% 12%  4%  5%  7%  5%  3%  2%\n",
            "\u001b[1;36m[libx264 @ 0x55eebc7dff80] \u001b[0mi8c dc,h,v,p: 38% 24% 28% 10%\n",
            "\u001b[1;36m[libx264 @ 0x55eebc7dff80] \u001b[0mWeighted P-Frames: Y:0.0% UV:0.0%\n",
            "\u001b[1;36m[libx264 @ 0x55eebc7dff80] \u001b[0mref P L0: 65.4%  6.9% 14.9% 12.7%\n",
            "\u001b[1;36m[libx264 @ 0x55eebc7dff80] \u001b[0mref B L0: 76.6% 18.2%  5.3%\n",
            "\u001b[1;36m[libx264 @ 0x55eebc7dff80] \u001b[0mref B L1: 92.8%  7.2%\n",
            "\u001b[1;36m[libx264 @ 0x55eebc7dff80] \u001b[0mkb/s:423.54\n",
            "\u001b[1;36m[aac @ 0x55eebc7e1a80] \u001b[0mQavg: 10365.723\n",
            "CPU times: user 651 ms, sys: 83 ms, total: 734 ms\n",
            "Wall time: 1min 56s\n"
          ]
        }
      ]
    },
    {
      "cell_type": "code",
      "metadata": {
        "id": "uNOAZvkszEOw",
        "outputId": "efd7e057-ea4e-4b69-fcc8-a590acc84a29",
        "colab": {
          "base_uri": "https://localhost:8080/",
          "height": 17
        }
      },
      "source": [
        "from google.colab import files\n",
        "files.download('./Wav2Lip/results/result_voice.mp4')"
      ],
      "execution_count": 20,
      "outputs": [
        {
          "output_type": "display_data",
          "data": {
            "text/plain": [
              "<IPython.core.display.Javascript object>"
            ],
            "application/javascript": [
              "\n",
              "    async function download(id, filename, size) {\n",
              "      if (!google.colab.kernel.accessAllowed) {\n",
              "        return;\n",
              "      }\n",
              "      const div = document.createElement('div');\n",
              "      const label = document.createElement('label');\n",
              "      label.textContent = `Downloading \"${filename}\": `;\n",
              "      div.appendChild(label);\n",
              "      const progress = document.createElement('progress');\n",
              "      progress.max = size;\n",
              "      div.appendChild(progress);\n",
              "      document.body.appendChild(div);\n",
              "\n",
              "      const buffers = [];\n",
              "      let downloaded = 0;\n",
              "\n",
              "      const channel = await google.colab.kernel.comms.open(id);\n",
              "      // Send a message to notify the kernel that we're ready.\n",
              "      channel.send({})\n",
              "\n",
              "      for await (const message of channel.messages) {\n",
              "        // Send a message to notify the kernel that we're ready.\n",
              "        channel.send({})\n",
              "        if (message.buffers) {\n",
              "          for (const buffer of message.buffers) {\n",
              "            buffers.push(buffer);\n",
              "            downloaded += buffer.byteLength;\n",
              "            progress.value = downloaded;\n",
              "          }\n",
              "        }\n",
              "      }\n",
              "      const blob = new Blob(buffers, {type: 'application/binary'});\n",
              "      const a = document.createElement('a');\n",
              "      a.href = window.URL.createObjectURL(blob);\n",
              "      a.download = filename;\n",
              "      div.appendChild(a);\n",
              "      a.click();\n",
              "      div.remove();\n",
              "    }\n",
              "  "
            ]
          },
          "metadata": {}
        },
        {
          "output_type": "display_data",
          "data": {
            "text/plain": [
              "<IPython.core.display.Javascript object>"
            ],
            "application/javascript": [
              "download(\"download_cb8694a7-b8cc-4eac-a42d-5c106edde241\", \"result_voice.mp4\", 767501)"
            ]
          },
          "metadata": {}
        }
      ]
    },
    {
      "cell_type": "markdown",
      "metadata": {
        "id": "d7zgfrQqbKom"
      },
      "source": [
        "## **Variations to try**\n"
      ]
    },
    {
      "cell_type": "markdown",
      "metadata": {
        "id": "0f9A9VDVbZAG"
      },
      "source": [
        "1.   Use more padding to include the chin region"
      ]
    },
    {
      "cell_type": "code",
      "metadata": {
        "id": "45XW4SZAzIz5",
        "colab": {
          "base_uri": "https://localhost:8080/"
        },
        "outputId": "6b201c6d-2cc6-4842-c7e4-a59e9dc24bca"
      },
      "source": [
        "!cd Wav2Lip && python inference.py --checkpoint_path checkpoints/wav2lip_gan.pth  --face \"/content/girl.mp4\" --audio \"/content/sample.mp3\" --pads 0 20 0 0"
      ],
      "execution_count": 83,
      "outputs": [
        {
          "output_type": "stream",
          "name": "stdout",
          "text": [
            "Using cuda for inference.\n",
            "Reading video frames...\n",
            "Number of frames available for inference: 240\n",
            "Extracting raw audio...\n",
            "ffmpeg version 4.2.7-0ubuntu0.1 Copyright (c) 2000-2022 the FFmpeg developers\n",
            "  built with gcc 9 (Ubuntu 9.4.0-1ubuntu1~20.04.1)\n",
            "  configuration: --prefix=/usr --extra-version=0ubuntu0.1 --toolchain=hardened --libdir=/usr/lib/x86_64-linux-gnu --incdir=/usr/include/x86_64-linux-gnu --arch=amd64 --enable-gpl --disable-stripping --enable-avresample --disable-filter=resample --enable-avisynth --enable-gnutls --enable-ladspa --enable-libaom --enable-libass --enable-libbluray --enable-libbs2b --enable-libcaca --enable-libcdio --enable-libcodec2 --enable-libflite --enable-libfontconfig --enable-libfreetype --enable-libfribidi --enable-libgme --enable-libgsm --enable-libjack --enable-libmp3lame --enable-libmysofa --enable-libopenjpeg --enable-libopenmpt --enable-libopus --enable-libpulse --enable-librsvg --enable-librubberband --enable-libshine --enable-libsnappy --enable-libsoxr --enable-libspeex --enable-libssh --enable-libtheora --enable-libtwolame --enable-libvidstab --enable-libvorbis --enable-libvpx --enable-libwavpack --enable-libwebp --enable-libx265 --enable-libxml2 --enable-libxvid --enable-libzmq --enable-libzvbi --enable-lv2 --enable-omx --enable-openal --enable-opencl --enable-opengl --enable-sdl2 --enable-libdc1394 --enable-libdrm --enable-libiec61883 --enable-nvenc --enable-chromaprint --enable-frei0r --enable-libx264 --enable-shared\n",
            "  libavutil      56. 31.100 / 56. 31.100\n",
            "  libavcodec     58. 54.100 / 58. 54.100\n",
            "  libavformat    58. 29.100 / 58. 29.100\n",
            "  libavdevice    58.  8.100 / 58.  8.100\n",
            "  libavfilter     7. 57.100 /  7. 57.100\n",
            "  libavresample   4.  0.  0 /  4.  0.  0\n",
            "  libswscale      5.  5.100 /  5.  5.100\n",
            "  libswresample   3.  5.100 /  3.  5.100\n",
            "  libpostproc    55.  5.100 / 55.  5.100\n",
            "\u001b[0;35m[mp3 @ 0x561627746000] \u001b[0m\u001b[0;33mEstimating duration from bitrate, this may be inaccurate\n",
            "\u001b[0mInput #0, mp3, from '/content/sample.mp3':\n",
            "  Metadata:\n",
            "    encoder         : Lavf58.76.100\n",
            "  Duration: 00:00:12.25, start: 0.000000, bitrate: 48 kb/s\n",
            "    Stream #0:0: Audio: mp3, 22050 Hz, mono, fltp, 48 kb/s\n",
            "Stream mapping:\n",
            "  Stream #0:0 -> #0:0 (mp3 (mp3float) -> pcm_s16le (native))\n",
            "Press [q] to stop, [?] for help\n",
            "Output #0, wav, to 'temp/temp.wav':\n",
            "  Metadata:\n",
            "    ISFT            : Lavf58.29.100\n",
            "    Stream #0:0: Audio: pcm_s16le ([1][0][0][0] / 0x0001), 22050 Hz, mono, s16, 352 kb/s\n",
            "    Metadata:\n",
            "      encoder         : Lavc58.54.100 pcm_s16le\n",
            "size=     528kB time=00:00:12.25 bitrate= 352.9kbits/s speed=1.38e+03x    \n",
            "video:0kB audio:528kB subtitle:0kB other streams:0kB global headers:0kB muxing overhead: 0.014437%\n",
            "(80, 981)\n",
            "Length of mel chunks: 243\n",
            "  0% 0/2 [00:00<?, ?it/s]\n",
            "  0% 0/15 [00:00<?, ?it/s]\u001b[A\n",
            "  7% 1/15 [00:02<00:34,  2.49s/it]\u001b[A\n",
            " 13% 2/15 [00:02<00:15,  1.21s/it]\u001b[A\n",
            " 20% 3/15 [00:03<00:09,  1.26it/s]\u001b[A\n",
            " 27% 4/15 [00:03<00:06,  1.68it/s]\u001b[A\n",
            " 33% 5/15 [00:03<00:04,  2.06it/s]\u001b[A\n",
            " 40% 6/15 [00:03<00:03,  2.38it/s]\u001b[A\n",
            " 47% 7/15 [00:04<00:03,  2.65it/s]\u001b[A\n",
            " 53% 8/15 [00:04<00:02,  2.87it/s]\u001b[A\n",
            " 60% 9/15 [00:04<00:01,  3.03it/s]\u001b[A\n",
            " 67% 10/15 [00:05<00:01,  3.13it/s]\u001b[A\n",
            " 73% 11/15 [00:05<00:01,  3.20it/s]\u001b[A\n",
            " 80% 12/15 [00:05<00:00,  3.27it/s]\u001b[A\n",
            " 87% 13/15 [00:06<00:00,  3.30it/s]\u001b[A\n",
            " 93% 14/15 [00:06<00:00,  3.34it/s]\u001b[A\n",
            "100% 15/15 [00:06<00:00,  2.27it/s]\n",
            "Load checkpoint from: checkpoints/wav2lip_gan.pth\n",
            "Model loaded\n",
            "100% 2/2 [00:14<00:00,  7.06s/it]\n",
            "ffmpeg version 4.2.7-0ubuntu0.1 Copyright (c) 2000-2022 the FFmpeg developers\n",
            "  built with gcc 9 (Ubuntu 9.4.0-1ubuntu1~20.04.1)\n",
            "  configuration: --prefix=/usr --extra-version=0ubuntu0.1 --toolchain=hardened --libdir=/usr/lib/x86_64-linux-gnu --incdir=/usr/include/x86_64-linux-gnu --arch=amd64 --enable-gpl --disable-stripping --enable-avresample --disable-filter=resample --enable-avisynth --enable-gnutls --enable-ladspa --enable-libaom --enable-libass --enable-libbluray --enable-libbs2b --enable-libcaca --enable-libcdio --enable-libcodec2 --enable-libflite --enable-libfontconfig --enable-libfreetype --enable-libfribidi --enable-libgme --enable-libgsm --enable-libjack --enable-libmp3lame --enable-libmysofa --enable-libopenjpeg --enable-libopenmpt --enable-libopus --enable-libpulse --enable-librsvg --enable-librubberband --enable-libshine --enable-libsnappy --enable-libsoxr --enable-libspeex --enable-libssh --enable-libtheora --enable-libtwolame --enable-libvidstab --enable-libvorbis --enable-libvpx --enable-libwavpack --enable-libwebp --enable-libx265 --enable-libxml2 --enable-libxvid --enable-libzmq --enable-libzvbi --enable-lv2 --enable-omx --enable-openal --enable-opencl --enable-opengl --enable-sdl2 --enable-libdc1394 --enable-libdrm --enable-libiec61883 --enable-nvenc --enable-chromaprint --enable-frei0r --enable-libx264 --enable-shared\n",
            "  libavutil      56. 31.100 / 56. 31.100\n",
            "  libavcodec     58. 54.100 / 58. 54.100\n",
            "  libavformat    58. 29.100 / 58. 29.100\n",
            "  libavdevice    58.  8.100 / 58.  8.100\n",
            "  libavfilter     7. 57.100 /  7. 57.100\n",
            "  libavresample   4.  0.  0 /  4.  0.  0\n",
            "  libswscale      5.  5.100 /  5.  5.100\n",
            "  libswresample   3.  5.100 /  3.  5.100\n",
            "  libpostproc    55.  5.100 / 55.  5.100\n",
            "\u001b[0;33mGuessed Channel Layout for Input Stream #0.0 : mono\n",
            "\u001b[0mInput #0, wav, from 'temp/temp.wav':\n",
            "  Metadata:\n",
            "    encoder         : Lavf58.29.100\n",
            "  Duration: 00:00:12.25, bitrate: 352 kb/s\n",
            "    Stream #0:0: Audio: pcm_s16le ([1][0][0][0] / 0x0001), 22050 Hz, mono, s16, 352 kb/s\n",
            "Input #1, avi, from 'temp/result.avi':\n",
            "  Metadata:\n",
            "    encoder         : Lavf58.76.100\n",
            "  Duration: 00:00:12.15, start: 0.000000, bitrate: 312 kb/s\n",
            "    Stream #1:0: Video: mpeg4 (Simple Profile) (FMP4 / 0x34504D46), yuv420p, 204x306 [SAR 1:1 DAR 2:3], 306 kb/s, 20 fps, 20 tbr, 20 tbn, 20 tbc\n",
            "Stream mapping:\n",
            "  Stream #1:0 -> #0:0 (mpeg4 (native) -> h264 (libx264))\n",
            "  Stream #0:0 -> #0:1 (pcm_s16le (native) -> aac (native))\n",
            "Press [q] to stop, [?] for help\n",
            "\u001b[1;36m[libx264 @ 0x5572ea076d00] \u001b[0m\u001b[0;33m-qscale is ignored, -crf is recommended.\n",
            "\u001b[0m\u001b[1;36m[libx264 @ 0x5572ea076d00] \u001b[0musing SAR=1/1\n",
            "\u001b[1;36m[libx264 @ 0x5572ea076d00] \u001b[0musing cpu capabilities: MMX2 SSE2Fast SSSE3 SSE4.2 AVX FMA3 BMI2 AVX2\n",
            "\u001b[1;36m[libx264 @ 0x5572ea076d00] \u001b[0mprofile High, level 1.2\n",
            "\u001b[1;36m[libx264 @ 0x5572ea076d00] \u001b[0m264 - core 155 r2917 0a84d98 - H.264/MPEG-4 AVC codec - Copyleft 2003-2018 - http://www.videolan.org/x264.html - options: cabac=1 ref=3 deblock=1:0:0 analyse=0x3:0x113 me=hex subme=7 psy=1 psy_rd=1.00:0.00 mixed_ref=1 me_range=16 chroma_me=1 trellis=1 8x8dct=1 cqm=0 deadzone=21,11 fast_pskip=1 chroma_qp_offset=-2 threads=3 lookahead_threads=1 sliced_threads=0 nr=0 decimate=1 interlaced=0 bluray_compat=0 constrained_intra=0 bframes=3 b_pyramid=2 b_adapt=1 b_bias=0 direct=1 weightb=1 open_gop=0 weightp=2 keyint=250 keyint_min=20 scenecut=40 intra_refresh=0 rc_lookahead=40 rc=crf mbtree=1 crf=23.0 qcomp=0.60 qpmin=0 qpmax=69 qpstep=4 ip_ratio=1.40 aq=1:1.00\n",
            "Output #0, mp4, to 'results/result_voice.mp4':\n",
            "  Metadata:\n",
            "    encoder         : Lavf58.29.100\n",
            "    Stream #0:0: Video: h264 (libx264) (avc1 / 0x31637661), yuv420p(progressive), 204x306 [SAR 1:1 DAR 2:3], q=-1--1, 20 fps, 10240 tbn, 20 tbc\n",
            "    Metadata:\n",
            "      encoder         : Lavc58.54.100 libx264\n",
            "    Side data:\n",
            "      cpb: bitrate max/min/avg: 0/0/0 buffer size: 0 vbv_delay: -1\n",
            "    Stream #0:1: Audio: aac (LC) (mp4a / 0x6134706D), 22050 Hz, mono, fltp, 69 kb/s\n",
            "    Metadata:\n",
            "      encoder         : Lavc58.54.100 aac\n",
            "frame=  243 fps=0.0 q=-1.0 Lsize=     176kB time=00:00:12.26 bitrate= 117.3kbits/s speed=23.7x    \n",
            "video:55kB audio:113kB subtitle:0kB other streams:0kB global headers:0kB muxing overhead: 4.294724%\n",
            "\u001b[1;36m[libx264 @ 0x5572ea076d00] \u001b[0mframe I:1     Avg QP:20.51  size: 15906\n",
            "\u001b[1;36m[libx264 @ 0x5572ea076d00] \u001b[0mframe P:122   Avg QP:20.56  size:   281\n",
            "\u001b[1;36m[libx264 @ 0x5572ea076d00] \u001b[0mframe B:120   Avg QP:29.81  size:    46\n",
            "\u001b[1;36m[libx264 @ 0x5572ea076d00] \u001b[0mconsecutive B-frames: 25.9% 18.1% 19.8% 36.2%\n",
            "\u001b[1;36m[libx264 @ 0x5572ea076d00] \u001b[0mmb I  I16..4:  1.9% 80.8% 17.3%\n",
            "\u001b[1;36m[libx264 @ 0x5572ea076d00] \u001b[0mmb P  I16..4:  0.0%  0.1%  0.0%  P16..4:  6.3%  2.1%  1.7%  0.0%  0.0%    skip:89.7%\n",
            "\u001b[1;36m[libx264 @ 0x5572ea076d00] \u001b[0mmb B  I16..4:  0.0%  0.0%  0.0%  B16..8:  3.4%  0.7%  0.1%  direct: 0.2%  skip:95.6%  L0:53.9% L1:39.3% BI: 6.8%\n",
            "\u001b[1;36m[libx264 @ 0x5572ea076d00] \u001b[0m8x8 transform intra:81.6% inter:70.8%\n",
            "\u001b[1;36m[libx264 @ 0x5572ea076d00] \u001b[0mcoded y,uvDC,uvAC intra: 93.3% 96.9% 78.8% inter: 2.4% 2.9% 0.8%\n",
            "\u001b[1;36m[libx264 @ 0x5572ea076d00] \u001b[0mi16 v,h,dc,p: 17% 17% 67%  0%\n",
            "\u001b[1;36m[libx264 @ 0x5572ea076d00] \u001b[0mi8 v,h,dc,ddl,ddr,vr,hd,vl,hu: 24% 16% 19%  6%  3%  8%  4% 13%  6%\n",
            "\u001b[1;36m[libx264 @ 0x5572ea076d00] \u001b[0mi4 v,h,dc,ddl,ddr,vr,hd,vl,hu: 21% 10% 11% 11% 10% 15%  7% 10%  5%\n",
            "\u001b[1;36m[libx264 @ 0x5572ea076d00] \u001b[0mi8c dc,h,v,p: 43% 16% 28% 13%\n",
            "\u001b[1;36m[libx264 @ 0x5572ea076d00] \u001b[0mWeighted P-Frames: Y:0.0% UV:0.0%\n",
            "\u001b[1;36m[libx264 @ 0x5572ea076d00] \u001b[0mref P L0: 70.5% 10.4% 11.8%  7.3%\n",
            "\u001b[1;36m[libx264 @ 0x5572ea076d00] \u001b[0mref B L0: 85.1% 12.2%  2.6%\n",
            "\u001b[1;36m[libx264 @ 0x5572ea076d00] \u001b[0mref B L1: 96.7%  3.3%\n",
            "\u001b[1;36m[libx264 @ 0x5572ea076d00] \u001b[0mkb/s:36.64\n",
            "\u001b[1;36m[aac @ 0x5572ea077a80] \u001b[0mQavg: 10365.723\n"
          ]
        }
      ]
    },
    {
      "cell_type": "markdown",
      "metadata": {
        "id": "uo-WnsxfbwTG"
      },
      "source": [
        "2.   Use resize_factor to reduce the video resolution, as there is a change you might get better results for lower resolution videos. Why? Because the model was trained on low resolution faces."
      ]
    },
    {
      "cell_type": "code",
      "metadata": {
        "id": "xw0xFtZ2bsx8",
        "outputId": "fd0e9c55-7cc4-4bbb-d2eb-21c8b0941b1d",
        "colab": {
          "base_uri": "https://localhost:8080/"
        }
      },
      "source": [
        "!cd Wav2Lip && python inference.py --checkpoint_path checkpoints/wav2lip_gan.pth --face \"/content/girl.mp4\" --audio \"/content/sample.mp3\" --resize_factor 2"
      ],
      "execution_count": 88,
      "outputs": [
        {
          "output_type": "stream",
          "name": "stdout",
          "text": [
            "Using cuda for inference.\n",
            "Reading video frames...\n",
            "Number of frames available for inference: 240\n",
            "Extracting raw audio...\n",
            "ffmpeg version 4.2.7-0ubuntu0.1 Copyright (c) 2000-2022 the FFmpeg developers\n",
            "  built with gcc 9 (Ubuntu 9.4.0-1ubuntu1~20.04.1)\n",
            "  configuration: --prefix=/usr --extra-version=0ubuntu0.1 --toolchain=hardened --libdir=/usr/lib/x86_64-linux-gnu --incdir=/usr/include/x86_64-linux-gnu --arch=amd64 --enable-gpl --disable-stripping --enable-avresample --disable-filter=resample --enable-avisynth --enable-gnutls --enable-ladspa --enable-libaom --enable-libass --enable-libbluray --enable-libbs2b --enable-libcaca --enable-libcdio --enable-libcodec2 --enable-libflite --enable-libfontconfig --enable-libfreetype --enable-libfribidi --enable-libgme --enable-libgsm --enable-libjack --enable-libmp3lame --enable-libmysofa --enable-libopenjpeg --enable-libopenmpt --enable-libopus --enable-libpulse --enable-librsvg --enable-librubberband --enable-libshine --enable-libsnappy --enable-libsoxr --enable-libspeex --enable-libssh --enable-libtheora --enable-libtwolame --enable-libvidstab --enable-libvorbis --enable-libvpx --enable-libwavpack --enable-libwebp --enable-libx265 --enable-libxml2 --enable-libxvid --enable-libzmq --enable-libzvbi --enable-lv2 --enable-omx --enable-openal --enable-opencl --enable-opengl --enable-sdl2 --enable-libdc1394 --enable-libdrm --enable-libiec61883 --enable-nvenc --enable-chromaprint --enable-frei0r --enable-libx264 --enable-shared\n",
            "  libavutil      56. 31.100 / 56. 31.100\n",
            "  libavcodec     58. 54.100 / 58. 54.100\n",
            "  libavformat    58. 29.100 / 58. 29.100\n",
            "  libavdevice    58.  8.100 / 58.  8.100\n",
            "  libavfilter     7. 57.100 /  7. 57.100\n",
            "  libavresample   4.  0.  0 /  4.  0.  0\n",
            "  libswscale      5.  5.100 /  5.  5.100\n",
            "  libswresample   3.  5.100 /  3.  5.100\n",
            "  libpostproc    55.  5.100 / 55.  5.100\n",
            "\u001b[0;35m[mp3 @ 0x559361de4000] \u001b[0m\u001b[0;33mEstimating duration from bitrate, this may be inaccurate\n",
            "\u001b[0mInput #0, mp3, from '/content/sample.mp3':\n",
            "  Metadata:\n",
            "    encoder         : Lavf58.76.100\n",
            "  Duration: 00:00:12.25, start: 0.000000, bitrate: 48 kb/s\n",
            "    Stream #0:0: Audio: mp3, 22050 Hz, mono, fltp, 48 kb/s\n",
            "Stream mapping:\n",
            "  Stream #0:0 -> #0:0 (mp3 (mp3float) -> pcm_s16le (native))\n",
            "Press [q] to stop, [?] for help\n",
            "Output #0, wav, to 'temp/temp.wav':\n",
            "  Metadata:\n",
            "    ISFT            : Lavf58.29.100\n",
            "    Stream #0:0: Audio: pcm_s16le ([1][0][0][0] / 0x0001), 22050 Hz, mono, s16, 352 kb/s\n",
            "    Metadata:\n",
            "      encoder         : Lavc58.54.100 pcm_s16le\n",
            "size=     528kB time=00:00:12.25 bitrate= 352.9kbits/s speed= 928x    \n",
            "video:0kB audio:528kB subtitle:0kB other streams:0kB global headers:0kB muxing overhead: 0.014437%\n",
            "(80, 981)\n",
            "Length of mel chunks: 243\n",
            "  0% 0/2 [00:00<?, ?it/s]\n",
            "  0% 0/15 [00:00<?, ?it/s]\u001b[A\n",
            "  7% 1/15 [00:01<00:26,  1.90s/it]\u001b[A\n",
            " 13% 2/15 [00:01<00:10,  1.19it/s]\u001b[A\n",
            " 27% 4/15 [00:02<00:04,  2.68it/s]\u001b[A\n",
            " 40% 6/15 [00:02<00:02,  4.11it/s]\u001b[A\n",
            " 53% 8/15 [00:02<00:01,  5.42it/s]\u001b[A\n",
            " 67% 10/15 [00:02<00:00,  6.27it/s]\u001b[A\n",
            " 73% 11/15 [00:02<00:00,  6.49it/s]\u001b[A\n",
            " 80% 12/15 [00:03<00:00,  6.74it/s]\u001b[A\n",
            " 87% 13/15 [00:03<00:00,  7.04it/s]\u001b[A\n",
            " 93% 14/15 [00:03<00:00,  7.16it/s]\u001b[A\n",
            "100% 15/15 [00:03<00:00,  4.34it/s]\n",
            "  0% 0/2 [00:05<?, ?it/s]\n",
            "Traceback (most recent call last):\n",
            "  File \"inference.py\", line 280, in <module>\n",
            "    main()\n",
            "  File \"inference.py\", line 249, in main\n",
            "    for i, (img_batch, mel_batch, frames, coords) in enumerate(tqdm(gen, \n",
            "  File \"/usr/local/lib/python3.8/dist-packages/tqdm/std.py\", line 1195, in __iter__\n",
            "    for obj in iterable:\n",
            "  File \"inference.py\", line 113, in datagen\n",
            "    face_det_results = face_detect(frames) # BGR2RGB for CNN face detection\n",
            "  File \"inference.py\", line 92, in face_detect\n",
            "    raise ValueError('Face not detected! Ensure the video contains a face in all the frames.')\n",
            "ValueError: Face not detected! Ensure the video contains a face in all the frames.\n"
          ]
        }
      ]
    }
  ]
}